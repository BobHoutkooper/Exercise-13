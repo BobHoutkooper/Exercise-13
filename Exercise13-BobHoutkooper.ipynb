{
 "metadata": {
  "name": "",
  "signature": "sha256:ed50eb69a05c4a1bfb6657af7164cb9f2c31fc185bf5eabc36400ad4123a367a"
 },
 "nbformat": 3,
 "nbformat_minor": 0,
 "worksheets": [
  {
   "cells": [
    {
     "cell_type": "markdown",
     "metadata": {},
     "source": [
      "# Exercise 13\n",
      "# Loner\n",
      "# Bob Houtkooper\n",
      "# 20-01-2016\n",
      "# NDWI and reprojection in Python\n"
     ]
    },
    {
     "cell_type": "markdown",
     "metadata": {},
     "source": [
      "Import modules"
     ]
    },
    {
     "cell_type": "code",
     "collapsed": false,
     "input": [
      "import numpy as np\n",
      "import os\n",
      "from osgeo import gdal\n",
      "from osgeo.gdalconst import GA_ReadOnly, GDT_Float32"
     ],
     "language": "python",
     "metadata": {},
     "outputs": [],
     "prompt_number": 35
    },
    {
     "cell_type": "markdown",
     "metadata": {},
     "source": [
      "Create directories and set working directory:"
     ]
    },
    {
     "cell_type": "code",
     "collapsed": false,
     "input": [
      "os.chdir(\"/home/user/Data/Exercise 13\")\n",
      "\n",
      "data = 'data' \n",
      "if not os.path.exists(data):\n",
      "    os.makedirs(data)\n",
      "\n",
      "output = 'output' \n",
      "if not os.path.exists(output):\n",
      "    os.makedirs(output)"
     ],
     "language": "python",
     "metadata": {},
     "outputs": [],
     "prompt_number": 36
    },
    {
     "cell_type": "markdown",
     "metadata": {},
     "source": [
      "Download files and extract in data folder"
     ]
    },
    {
     "cell_type": "markdown",
     "metadata": {},
     "source": [
      "A function to derive the Normalised difference water index (NDWI):"
     ]
    },
    {
     "cell_type": "code",
     "collapsed": false,
     "input": [
      "filename_band4 = '/home/user/Data/Exercise 13/data/ospy_data5/LC81980242014260LGN00_sr_band4.tif' \n",
      "filename_band5 = '/home/user/Data/Exercise 13/data/ospy_data5/LC81980242014260LGN00_sr_band5.tif'\n",
      "\n",
      "dataSource_band4 = gdal.Open(filename_band4, GA_ReadOnly)\n",
      "dataSource_band5 = gdal.Open(filename_band5, GA_ReadOnly)\n",
      "\n",
      "# Read data into an array\n",
      "band4Arr = dataSource_band4.ReadAsArray(0,0,dataSource.RasterXSize, dataSource.RasterYSize)\n",
      "band5Arr = dataSource_band5.ReadAsArray(0,0,dataSource.RasterXSize, dataSource.RasterYSize)\n",
      "\n",
      "# set the data type\n",
      "band4Arr=band4Arr.astype(np.float32)\n",
      "band5Arr=band5Arr.astype(np.float32)\n",
      "\n",
      "# Derive the NDWI\n",
      "mask = np.greater(band4Arr+band5Arr,0)\n",
      "\n",
      "# set np.errstate to avoid warning of invalid values (i.e. NaN values) in the divide \n",
      "with np.errstate(invalid='ignore'):\n",
      "    ndwi = np.choose(mask,(-99,(band4Arr-band5Arr)/(band4Arr+band5Arr)))\n",
      "\n",
      "# Write the result to disk\n",
      "driver = gdal.GetDriverByName('GTiff')\n",
      "outDataSet=driver.Create('data/ospy_data5/ndwi.tif', dataSource.RasterXSize, dataSource.RasterYSize, 1, GDT_Float32)\n",
      "outBand = outDataSet.GetRasterBand(1)\n",
      "outBand.WriteArray(ndwi,0,0)\n",
      "outBand.SetNoDataValue(-99)\n",
      "\n",
      "# set the projection and extent information of the dataset\n",
      "outDataSet.SetProjection(dataSource.GetProjection())\n",
      "outDataSet.SetGeoTransform(dataSource.GetGeoTransform())\n",
      "\n",
      "# Finally let's save it... or like in the OGR example flush it\n",
      "outBand.FlushCache()\n",
      "outDataSet.FlushCache()"
     ],
     "language": "python",
     "metadata": {},
     "outputs": [],
     "prompt_number": 37
    },
    {
     "cell_type": "markdown",
     "metadata": {},
     "source": [
      "reproject the image to Lat/Long WGS84"
     ]
    },
    {
     "cell_type": "code",
     "collapsed": false,
     "input": [
      "\n",
      "!gdalwarp -t_srs \"EPSG:4326\" '/home/user/Data/Exercise 13/data/ospy_data5/ndwi.tif' '/home/user/Data/Exercise 13/data/ospy_data5/ndwi_ll.tif'\n"
     ],
     "language": "python",
     "metadata": {},
     "outputs": [
      {
       "output_type": "stream",
       "stream": "stdout",
       "text": [
        "Processing input file /home/user/Data/Exercise 13/data/ospy_data5/ndwi.tif.\r\n",
        "Using internal nodata values (e.g. -99) for image /home/user/Data/Exercise 13/data/ospy_data5/ndwi.tif.\r\n",
        "Copying nodata values from source /home/user/Data/Exercise 13/data/ospy_data5/ndwi.tif to destination /home/user/Data/Exercise 13/data/ospy_data5/ndwi_ll.tif.\r\n"
       ]
      },
      {
       "output_type": "stream",
       "stream": "stdout",
       "text": [
        "0"
       ]
      },
      {
       "output_type": "stream",
       "stream": "stdout",
       "text": [
        "."
       ]
      },
      {
       "output_type": "stream",
       "stream": "stdout",
       "text": [
        "."
       ]
      },
      {
       "output_type": "stream",
       "stream": "stdout",
       "text": [
        ".10"
       ]
      },
      {
       "output_type": "stream",
       "stream": "stdout",
       "text": [
        "."
       ]
      },
      {
       "output_type": "stream",
       "stream": "stdout",
       "text": [
        "."
       ]
      },
      {
       "output_type": "stream",
       "stream": "stdout",
       "text": [
        ".20"
       ]
      },
      {
       "output_type": "stream",
       "stream": "stdout",
       "text": [
        "."
       ]
      },
      {
       "output_type": "stream",
       "stream": "stdout",
       "text": [
        "."
       ]
      },
      {
       "output_type": "stream",
       "stream": "stdout",
       "text": [
        "."
       ]
      },
      {
       "output_type": "stream",
       "stream": "stdout",
       "text": [
        "30"
       ]
      },
      {
       "output_type": "stream",
       "stream": "stdout",
       "text": [
        ".."
       ]
      },
      {
       "output_type": "stream",
       "stream": "stdout",
       "text": [
        "."
       ]
      },
      {
       "output_type": "stream",
       "stream": "stdout",
       "text": [
        "40"
       ]
      },
      {
       "output_type": "stream",
       "stream": "stdout",
       "text": [
        ".."
       ]
      },
      {
       "output_type": "stream",
       "stream": "stdout",
       "text": [
        "."
       ]
      },
      {
       "output_type": "stream",
       "stream": "stdout",
       "text": [
        "50"
       ]
      },
      {
       "output_type": "stream",
       "stream": "stdout",
       "text": [
        ".."
       ]
      },
      {
       "output_type": "stream",
       "stream": "stdout",
       "text": [
        "."
       ]
      },
      {
       "output_type": "stream",
       "stream": "stdout",
       "text": [
        "60"
       ]
      },
      {
       "output_type": "stream",
       "stream": "stdout",
       "text": [
        ".."
       ]
      },
      {
       "output_type": "stream",
       "stream": "stdout",
       "text": [
        "."
       ]
      },
      {
       "output_type": "stream",
       "stream": "stdout",
       "text": [
        "70"
       ]
      },
      {
       "output_type": "stream",
       "stream": "stdout",
       "text": [
        ".."
       ]
      },
      {
       "output_type": "stream",
       "stream": "stdout",
       "text": [
        "."
       ]
      },
      {
       "output_type": "stream",
       "stream": "stdout",
       "text": [
        "80"
       ]
      },
      {
       "output_type": "stream",
       "stream": "stdout",
       "text": [
        ".."
       ]
      },
      {
       "output_type": "stream",
       "stream": "stdout",
       "text": [
        "."
       ]
      },
      {
       "output_type": "stream",
       "stream": "stdout",
       "text": [
        "90"
       ]
      },
      {
       "output_type": "stream",
       "stream": "stdout",
       "text": [
        ".."
       ]
      },
      {
       "output_type": "stream",
       "stream": "stdout",
       "text": [
        "."
       ]
      },
      {
       "output_type": "stream",
       "stream": "stdout",
       "text": [
        "100 - done.\r\n"
       ]
      }
     ],
     "prompt_number": 38
    },
    {
     "cell_type": "code",
     "collapsed": false,
     "input": [],
     "language": "python",
     "metadata": {},
     "outputs": []
    }
   ],
   "metadata": {}
  }
 ]
}